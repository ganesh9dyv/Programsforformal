{
  "nbformat": 4,
  "nbformat_minor": 0,
  "metadata": {
    "colab": {
      "provenance": []
    },
    "kernelspec": {
      "name": "python3",
      "display_name": "Python 3"
    },
    "language_info": {
      "name": "python"
    }
  },
  "cells": [
    {
      "cell_type": "code",
      "source": [
        "# prompt: Use model checking to verify the correctness of a topological sorting algorithm. Give code in python\n",
        "\n",
        "import random\n",
        "\n",
        "def topological_sort(graph):\n",
        "    \"\"\"\n",
        "    Performs a topological sort on a directed acyclic graph (DAG).\n",
        "\n",
        "    Args:\n",
        "        graph: A dictionary representing the graph where keys are nodes and\n",
        "               values are lists of their successors.\n",
        "\n",
        "    Returns:\n",
        "        A list representing a valid topological ordering of the nodes, or None\n",
        "        if the graph contains a cycle.\n",
        "    \"\"\"\n",
        "    in_degree = {node: 0 for node in graph}\n",
        "    for node in graph:\n",
        "        for successor in graph[node]:\n",
        "            in_degree[successor] += 1\n",
        "\n",
        "    queue = [node for node in graph if in_degree[node] == 0]\n",
        "    sorted_nodes = []\n",
        "\n",
        "    while queue:\n",
        "        node = queue.pop(0)\n",
        "        sorted_nodes.append(node)\n",
        "\n",
        "        for successor in graph[node]:\n",
        "            in_degree[successor] -= 1\n",
        "            if in_degree[successor] == 0:\n",
        "                queue.append(successor)\n",
        "\n",
        "    if len(sorted_nodes) == len(graph):\n",
        "        return sorted_nodes\n",
        "    else:\n",
        "        return None  # Cycle detected\n",
        "\n",
        "\n",
        "def generate_random_dag(num_nodes, max_edges_per_node):\n",
        "  \"\"\"Generates a random directed acyclic graph (DAG).\"\"\"\n",
        "  graph = {i: [] for i in range(num_nodes)}\n",
        "  for i in range(num_nodes):\n",
        "    num_edges = random.randint(0, min(max_edges_per_node, num_nodes - 1 - i))\n",
        "    for _ in range(num_edges):\n",
        "      j = random.randint(i + 1, num_nodes - 1)\n",
        "      graph[i].append(j)\n",
        "  return graph\n",
        "\n",
        "def verify_topological_sort(graph, sorted_nodes):\n",
        "    \"\"\"Verifies if the given sorted_nodes is a valid topological sort of graph.\"\"\"\n",
        "    if sorted_nodes is None:\n",
        "        return False\n",
        "\n",
        "    node_indices = {node: index for index, node in enumerate(sorted_nodes)}\n",
        "    for node in graph:\n",
        "        for successor in graph[node]:\n",
        "            if node_indices[node] >= node_indices[successor]:\n",
        "                return False\n",
        "    return True\n",
        "\n",
        "# Model checking with random DAGs\n",
        "num_tests = 100\n",
        "for _ in range(num_tests):\n",
        "    num_nodes = random.randint(3, 10)  # Vary the number of nodes for more thorough testing\n",
        "    max_edges = 3  # Or any value that makes sense for your tests\n",
        "    random_graph = generate_random_dag(num_nodes,max_edges)\n",
        "    sorted_result = topological_sort(random_graph)\n",
        "    if not verify_topological_sort(random_graph, sorted_result):\n",
        "        print(\"Topological sort failed for the graph:\")\n",
        "        print(random_graph)\n",
        "        print(\"Sorted result:\", sorted_result)\n",
        "        break  # Stop on the first failure\n",
        "else:\n",
        "    print(\"Topological sort passed all\", num_tests, \"tests.\")\n"
      ],
      "metadata": {
        "colab": {
          "base_uri": "https://localhost:8080/"
        },
        "id": "bSlyYAKID1yR",
        "outputId": "93f0d455-2409-456a-d1a2-e8c4055312fb"
      },
      "execution_count": null,
      "outputs": [
        {
          "output_type": "stream",
          "name": "stdout",
          "text": [
            "Topological sort passed all 100 tests.\n"
          ]
        }
      ]
    },
    {
      "cell_type": "code",
      "source": [
        "!pip install simpy\n"
      ],
      "metadata": {
        "colab": {
          "base_uri": "https://localhost:8080/"
        },
        "id": "Dx0-kZC4D8Fg",
        "outputId": "12f28b57-5199-471b-cdf2-f1e44ae88de9"
      },
      "execution_count": null,
      "outputs": [
        {
          "output_type": "stream",
          "name": "stdout",
          "text": [
            "Collecting simpy\n",
            "  Downloading simpy-4.1.1-py3-none-any.whl.metadata (6.1 kB)\n",
            "Downloading simpy-4.1.1-py3-none-any.whl (27 kB)\n",
            "Installing collected packages: simpy\n",
            "Successfully installed simpy-4.1.1\n"
          ]
        }
      ]
    },
    {
      "cell_type": "code",
      "source": [
        "# prompt: Develop a proof of correctness for binary search algorithm using Hoare Logic.Give code in python using simpy library\n",
        "\n",
        "import simpy\n",
        "\n",
        "# Proof of correctness for binary search using Hoare Logic\n",
        "\n",
        "# Precondition: {A sorted array 'arr' of size 'n' and a target value 'target'}\n",
        "# Postcondition: {The index of the target in the array, or -1 if the target is not found}\n",
        "\n",
        "def binary_search(arr, target):\n",
        "    low = 0\n",
        "    high = len(arr) - 1\n",
        "\n",
        "    while low <= high:\n",
        "        mid = (low + high) // 2\n",
        "\n",
        "        # Invariant: {target is in arr[low..high] or target is not in arr}\n",
        "        if arr[mid] == target:\n",
        "            return mid  # Target found\n",
        "        elif arr[mid] < target:\n",
        "            low = mid + 1  # Discard the left half\n",
        "        else:\n",
        "            high = mid - 1 # Discard the right half\n",
        "\n",
        "    return -1  # Target not found\n",
        "\n",
        "# Example usage with simpy (for demonstration purposes)\n",
        "def binary_search_simulation(env, arr, target):\n",
        "    # Simulate a process that performs binary search\n",
        "    yield env.timeout(0.1)  # Simulate some processing time\n",
        "    result = binary_search(arr, target)\n",
        "    print(f\"Binary search result for target {target}: {result}\")\n",
        "\n",
        "# Set up the simulation environment\n",
        "env = simpy.Environment()\n",
        "\n",
        "# Example array and target value\n",
        "arr = [2, 5, 8, 12, 16, 23, 38, 56, 72, 91]\n",
        "target_value = 23\n",
        "\n",
        "# Create and start the simulation process\n",
        "env.process(binary_search_simulation(env, arr, target_value))\n",
        "\n",
        "# Run the simulation\n",
        "env.run()\n"
      ],
      "metadata": {
        "colab": {
          "base_uri": "https://localhost:8080/"
        },
        "id": "5i7dwo1UEJ_H",
        "outputId": "aacc30ab-241f-4027-dbff-ac01dd0a87b9"
      },
      "execution_count": null,
      "outputs": [
        {
          "output_type": "stream",
          "name": "stdout",
          "text": [
            "Binary search result for target 23: 5\n"
          ]
        }
      ]
    },
    {
      "cell_type": "code",
      "source": [
        "# prompt: Implement formal verification of loop invariants for fixed point iterative algorithms. Give code in python using simpy library\n",
        "\n",
        "import random\n",
        "import simpy\n",
        "\n",
        "# ... (Existing code for topological sort and verification remains unchanged) ...\n",
        "\n",
        "\n",
        "# Formal verification of loop invariants for fixed-point iterative algorithms\n",
        "# (Illustrative example using a simplified fixed-point iteration)\n",
        "\n",
        "def fixed_point_iteration(x0, tolerance, max_iterations):\n",
        "    \"\"\"\n",
        "    Performs fixed-point iteration to find the fixed point of a function.\n",
        "\n",
        "    Args:\n",
        "        x0: The initial guess.\n",
        "        tolerance: The desired accuracy.\n",
        "        max_iterations: The maximum number of iterations allowed.\n",
        "\n",
        "    Returns:\n",
        "        The approximate fixed point or None if it does not converge within the limit.\n",
        "    \"\"\"\n",
        "\n",
        "    x = x0\n",
        "    for i in range(max_iterations):\n",
        "        x_next = x**2 - 2  # Example function for fixed point\n",
        "\n",
        "        # Loop invariant: abs(x - x_next) >= tolerance or i < max_iterations\n",
        "\n",
        "        if abs(x - x_next) < tolerance:\n",
        "            return x_next\n",
        "        x = x_next\n",
        "\n",
        "    return None  # Did not converge within max_iterations\n",
        "\n",
        "\n",
        "# Model checking for fixed point\n",
        "def verify_fixed_point(x0, tolerance, max_iterations):\n",
        "    # Simulate a fixed point iteration and verify the invariant\n",
        "    result = fixed_point_iteration(x0, tolerance, max_iterations)\n",
        "    print(f\"Fixed point result: {result}\")\n",
        "    return result # Could add more rigorous checks here.\n",
        "\n",
        "\n",
        "# Simulate using SimPy (just for demonstration)\n",
        "def fixed_point_simulation(env, x0, tolerance, max_iterations):\n",
        "    yield env.timeout(0.1)\n",
        "    result = verify_fixed_point(x0, tolerance, max_iterations)\n",
        "\n",
        "# Example usage with simpy\n",
        "env = simpy.Environment()\n",
        "x0_value = 2\n",
        "tolerance_value = 0.001\n",
        "max_iterations_value = 100\n",
        "\n",
        "env.process(fixed_point_simulation(env, x0_value, tolerance_value, max_iterations_value))\n",
        "env.run()\n"
      ],
      "metadata": {
        "colab": {
          "base_uri": "https://localhost:8080/"
        },
        "id": "V8fodRxcEO6l",
        "outputId": "78b9c245-a4a5-4b46-9b28-a1c7905f7da8"
      },
      "execution_count": null,
      "outputs": [
        {
          "output_type": "stream",
          "name": "stdout",
          "text": [
            "Fixed point result: 2\n"
          ]
        }
      ]
    },
    {
      "cell_type": "code",
      "source": [
        "# prompt: Among the formal methods - Model Checking (with Temporal Logic), Petri Nets, Process\n",
        "# Algebra (e.g., CSP, CCS, π-Calculus), Theorem Proving (e.g., Coq, Isabelle, TLA+), and\n",
        "# Abstract Interpretation (for static checking) - which is the most suitable for verifying\n",
        "# concurrent access control mechanisms in a multi-threaded system? Justify your choice and\n",
        "# demonstrate verification using the selected method.Give code in python using simpy library\n",
        "\n",
        "import random\n",
        "import simpy\n",
        "\n",
        "# ... (Existing code for topological sort, verification, binary search, and fixed-point iteration remains unchanged) ...\n",
        "\n",
        "# Model Checking with Temporal Logic (using a simplified example)\n",
        "# We'll simulate a concurrent system with a shared resource and access control.\n",
        "\n",
        "# Define the system state (using a simplified state representation)\n",
        "class SystemState:\n",
        "  def __init__(self):\n",
        "    self.resource_available = True  # Initially, the resource is available\n",
        "    self.thread1_accessing = False\n",
        "    self.thread2_accessing = False\n",
        "\n",
        "# Define the system transitions (actions)\n",
        "def acquire_resource(env, state, thread_id):\n",
        "    if state.resource_available:\n",
        "        state.resource_available = False\n",
        "        if thread_id == 1:\n",
        "            state.thread1_accessing = True\n",
        "        elif thread_id == 2:\n",
        "            state.thread2_accessing = True\n",
        "        yield env.timeout(random.uniform(0.1, 0.5))  # Simulate some work\n",
        "        if thread_id == 1:\n",
        "            state.thread1_accessing = False\n",
        "        elif thread_id == 2:\n",
        "            state.thread2_accessing = False\n",
        "        state.resource_available = True  # Release resource\n",
        "\n",
        "# Simulate threads attempting to access the resource\n",
        "def thread_process(env, state, thread_id):\n",
        "  while True:\n",
        "    yield env.process(acquire_resource(env, state, thread_id))\n",
        "    yield env.timeout(random.uniform(0.1, 0.5))\n",
        "\n",
        "# Set up the simulation environment\n",
        "env = simpy.Environment()\n",
        "\n",
        "# Create the system state\n",
        "system_state = SystemState()\n",
        "\n",
        "# Create and start the thread processes\n",
        "env.process(thread_process(env, system_state, 1))\n",
        "env.process(thread_process(env, system_state, 2))\n",
        "\n",
        "# Run the simulation for a specified duration\n",
        "env.run(until=5)\n",
        "\n",
        "# Verification (Simplified)\n",
        "# In a real-world setting, you would use a model checker to check for properties like:\n",
        "#  - Mutual exclusion: AG (!thread1_accessing | !thread2_accessing)\n",
        "#  - Absence of deadlocks\n",
        "#  - Progress properties\n",
        "# Here, we just check at the end of simulation\n",
        "\n",
        "if not (system_state.thread1_accessing and system_state.thread2_accessing):\n",
        "    print(\"Mutual exclusion holds at the end of the simulation\")\n",
        "else:\n",
        "    print(\"Mutual exclusion violation at the end of the simulation\")\n"
      ],
      "metadata": {
        "colab": {
          "base_uri": "https://localhost:8080/"
        },
        "id": "yVS3_OmLEVax",
        "outputId": "1ae7255c-4cec-4892-a93d-b9c196e844dc"
      },
      "execution_count": null,
      "outputs": [
        {
          "output_type": "stream",
          "name": "stdout",
          "text": [
            "Mutual exclusion holds at the end of the simulation\n"
          ]
        }
      ]
    },
    {
      "cell_type": "code",
      "source": [
        "# prompt: Develop a formal specification for a job scheduling system and verify correctness.Give code in python using simpy library\n",
        "\n",
        "import simpy\n",
        "import random\n",
        "\n",
        "# Formal Specification of Job Scheduling System\n",
        "\n",
        "# 1. System State:\n",
        "#    - job_queue: A list of jobs waiting to be processed. Each job is represented\n",
        "#                 as a tuple (job_id, priority, processing_time).\n",
        "#    - resources: A dictionary of available resources. Each resource is associated\n",
        "#                  with a capacity (number of units available).\n",
        "#    - scheduled_jobs: A set of currently scheduled jobs.\n",
        "\n",
        "\n",
        "# 2. Operations (or transitions)\n",
        "#   - add_job(job_id, priority, processing_time, resource_requirements)\n",
        "#   - schedule_jobs() - selects jobs from queue according to priority and checks resource availability.\n",
        "#   - complete_job(job_id)\n",
        "#   - remove_job(job_id) - removes a job from queue if not already scheduled.\n",
        "\n",
        "# 3. Invariants\n",
        "#    - Each job in the scheduled_jobs set must have the required resources available.\n",
        "#    - The sum of the resource units used by scheduled_jobs must not exceed the capacity of each resource type.\n",
        "#    - A job can't be in both job_queue and scheduled_jobs at the same time.\n",
        "#    - Job IDs are unique.\n",
        "\n",
        "class JobScheduler:\n",
        "    def __init__(self, env, resources):\n",
        "        self.env = env\n",
        "        self.job_queue = []\n",
        "        self.resources = resources\n",
        "        self.scheduled_jobs = set()\n",
        "\n",
        "    def add_job(self, job_id, priority, processing_time, resource_requirements):\n",
        "        self.job_queue.append((job_id, priority, processing_time, resource_requirements))\n",
        "        self.job_queue.sort(key=lambda x: x[1], reverse=True)  # Sort by priority\n",
        "\n",
        "    def schedule_jobs(self):\n",
        "        for job in self.job_queue:\n",
        "          job_id, _, processing_time, resource_requirements = job\n",
        "\n",
        "          if job_id not in self.scheduled_jobs: #invariant: job shouldn't be in schedule and queue.\n",
        "              resources_available = True\n",
        "              for resource, amount in resource_requirements.items():\n",
        "                if amount > self.resources.get(resource, 0):\n",
        "                  resources_available = False\n",
        "                  break\n",
        "\n",
        "              if resources_available:\n",
        "                  self.scheduled_jobs.add(job_id)\n",
        "                  self.job_queue.remove(job) #remove job from queue\n",
        "\n",
        "                  # Simulate processing time\n",
        "                  yield self.env.timeout(processing_time)\n",
        "                  print(f\"Job {job_id} completed at {self.env.now}\")\n",
        "                  self.scheduled_jobs.remove(job_id) #remove from scheduled jobs.\n",
        "\n",
        "                  #update resources\n",
        "                  for resource, amount in resource_requirements.items():\n",
        "                      self.resources[resource] += amount\n",
        "    def complete_job(self,job_id):\n",
        "        if job_id in self.scheduled_jobs:\n",
        "            self.scheduled_jobs.remove(job_id)\n",
        "\n",
        "# Example usage\n",
        "env = simpy.Environment()\n",
        "resources = {\"CPU\": 2, \"Memory\": 10}  # Define available resources\n",
        "scheduler = JobScheduler(env, resources)\n",
        "\n",
        "\n",
        "# Example job addition\n",
        "scheduler.add_job(1, 5, 2, {\"CPU\": 1, \"Memory\": 4})\n",
        "scheduler.add_job(2, 2, 1, {\"CPU\": 1, \"Memory\": 2})\n",
        "scheduler.add_job(3, 4, 3, {\"CPU\": 2, \"Memory\": 6})\n",
        "\n",
        "env.process(scheduler.schedule_jobs())\n",
        "env.run(until=10)\n"
      ],
      "metadata": {
        "colab": {
          "base_uri": "https://localhost:8080/"
        },
        "id": "kh8n8L0pEkjs",
        "outputId": "296c1984-e7b8-4a7e-cb0c-b0fadccf0687"
      },
      "execution_count": null,
      "outputs": [
        {
          "output_type": "stream",
          "name": "stdout",
          "text": [
            "Job 1 completed at 2\n",
            "Job 2 completed at 3\n"
          ]
        }
      ]
    }
  ]
}